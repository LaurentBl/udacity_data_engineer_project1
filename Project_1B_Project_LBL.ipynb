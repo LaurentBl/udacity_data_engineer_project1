{
 "cells": [
  {
   "cell_type": "markdown",
   "metadata": {},
   "source": [
    "# Part I. ETL Pipeline for Pre-Processing the Files"
   ]
  },
  {
   "cell_type": "markdown",
   "metadata": {},
   "source": [
    "## PLEASE RUN THE FOLLOWING CODE FOR PRE-PROCESSING THE FILES"
   ]
  },
  {
   "cell_type": "markdown",
   "metadata": {},
   "source": [
    "#### Import Python packages "
   ]
  },
  {
   "cell_type": "code",
   "execution_count": 1,
   "metadata": {},
   "outputs": [],
   "source": [
    "# Import Python packages \n",
    "import pandas as pd\n",
    "import cassandra\n",
    "import re\n",
    "import os\n",
    "import glob\n",
    "import numpy as np\n",
    "import json\n",
    "import csv"
   ]
  },
  {
   "cell_type": "markdown",
   "metadata": {},
   "source": [
    "#### Creating list of filepaths to process original event csv data files"
   ]
  },
  {
   "cell_type": "code",
   "execution_count": 2,
   "metadata": {},
   "outputs": [],
   "source": [
    "# checking the current working directory\n",
    "# print(os.getcwd())\n",
    "\n",
    "# Get the current folder and subfolder event data\n",
    "datadir = os.getcwd() + '/event_data'\n",
    "\n",
    "# The build-up of file_path_list had to be revamped as it was disturbed by the jupyter snapshots\n",
    "# Get the file path for all csv's in the subfolder referenced to in datadir\n",
    "file_path_list=[]\n",
    "for filename in os.listdir(datadir):\n",
    "    f=os.path.join(datadir,filename)\n",
    "    if os.path.isfile(f) & (f[-4:]=='.csv'):\n",
    "        file_path_list.append(f)\n"
   ]
  },
  {
   "cell_type": "markdown",
   "metadata": {},
   "source": [
    "#### Processing the files to create the data file csv that will be used for Apache Casssandra tables"
   ]
  },
  {
   "cell_type": "code",
   "execution_count": 3,
   "metadata": {},
   "outputs": [
    {
     "name": "stdout",
     "output_type": "stream",
     "text": [
      "Across all files, there are 8056 rows\n",
      "Because the artist info was missing (i.e. user login info), we discarded 1236 rows\n"
     ]
    }
   ],
   "source": [
    "# initiating an empty list of rows that will be generated from each file\n",
    "full_data_rows_list = [] \n",
    "    \n",
    "# for every filepath in the file path list \n",
    "for f in file_path_list:\n",
    "\n",
    "# reading csv file \n",
    "    with open(f, 'r', encoding = 'utf8', newline='') as csvfile: \n",
    "        # creating a csv reader object \n",
    "        csvreader = csv.reader(csvfile) \n",
    "        next(csvreader)\n",
    "        \n",
    " # extracting each data row one by one and append it        \n",
    "        for line in csvreader:\n",
    "            #print(line)\n",
    "            full_data_rows_list.append(line) \n",
    "            \n",
    "# uncomment the code below if you would like to get total number of rows \n",
    "print('Across all files, there are '+str(len(full_data_rows_list))+' rows')\n",
    "# uncomment the code below if you would like to check to see what the list of event data rows will look like\n",
    "# print(full_data_rows_list)\n",
    "\n",
    "# creating a smaller event data csv file called event_datafile_full csv that will be used to insert data into the \\\n",
    "# Apache Cassandra tables\n",
    "csv.register_dialect('myDialect', quoting=csv.QUOTE_ALL, skipinitialspace=True)\n",
    "\n",
    "# This is a counter to identify the rows that will be discarded because of a missing value in the first field\n",
    "rowzero_idx=0\n",
    "\n",
    "with open('event_datafile_new.csv', 'w', encoding = 'utf8', newline='') as f:\n",
    "    writer = csv.writer(f, dialect='myDialect')\n",
    "    writer.writerow(['artist','firstName','gender','itemInSession','lastName','length',\\\n",
    "                'level','location','sessionId','song','userId'])\n",
    "    for row in full_data_rows_list:\n",
    "        if (row[0] == ''):\n",
    "            rowzero_idx=rowzero_idx+1\n",
    "            continue\n",
    "        writer.writerow((row[0], row[2], row[3], row[4], row[5], row[6], row[7], row[8], row[12], row[13], row[16]))\n",
    "\n",
    "# Checking on the total of rows discarded\n",
    "print('Because the artist info was missing (i.e. user login info), we discarded '+str(rowzero_idx)+' rows')"
   ]
  },
  {
   "cell_type": "markdown",
   "metadata": {},
   "source": [
    "#### check on total of remaining rows"
   ]
  },
  {
   "cell_type": "code",
   "execution_count": 4,
   "metadata": {},
   "outputs": [
    {
     "name": "stdout",
     "output_type": "stream",
     "text": [
      "6821 have been kept finally\n"
     ]
    }
   ],
   "source": [
    "# check the number of rows in your csv file\n",
    "with open('event_datafile_new.csv', 'r', encoding = 'utf8') as f:\n",
    "    print(str(sum(1 for line in f))+' have been kept finally')"
   ]
  },
  {
   "cell_type": "markdown",
   "metadata": {},
   "source": [
    "# Part II. Apache Cassandra coding portion of the project. \n",
    "\n",
    "## Now we are ready to work with the CSV file titled <font color=red>event_datafile_new.csv</font>, located within the Workspace directory.  The event_datafile_new.csv contains the following columns: \n",
    "- artist \n",
    "- firstName of user\n",
    "- gender of user\n",
    "- item number in session\n",
    "- last name of user\n",
    "- length of the song\n",
    "- level (paid or free song)\n",
    "- location of the user\n",
    "- sessionId\n",
    "- song title\n",
    "- userId\n",
    "\n",
    "The image below is a screenshot of what the denormalized data should appear like in the <font color=red>**event_datafile_new.csv**</font> after the code above is run:<br>\n",
    "\n",
    "<img src=\"images/image_event_datafile_new.jpg\">"
   ]
  },
  {
   "cell_type": "markdown",
   "metadata": {},
   "source": [
    "## This is the Apache Cassandra admin code where we create the resources needed"
   ]
  },
  {
   "cell_type": "markdown",
   "metadata": {},
   "source": [
    "#### Creating a Cluster"
   ]
  },
  {
   "cell_type": "code",
   "execution_count": 5,
   "metadata": {},
   "outputs": [],
   "source": [
    "# This makes a connection to a Cassandra instance on the local machine \n",
    "# (127.0.0.1)\n",
    "\n",
    "from cassandra.cluster import Cluster\n",
    "cluster = Cluster(['127.0.0.1'])\n",
    "\n",
    "# To establish connection and begin executing queries, we need a session\n",
    "session = cluster.connect()"
   ]
  },
  {
   "cell_type": "markdown",
   "metadata": {},
   "source": [
    "#### Create Keyspace"
   ]
  },
  {
   "cell_type": "code",
   "execution_count": 6,
   "metadata": {},
   "outputs": [],
   "source": [
    "# creating a keyspace (equiv to a schema in RDBMS)\n",
    "try:\n",
    "    session.execute(\"\"\"\n",
    "    CREATE KEYSPACE IF NOT EXISTS udacity\n",
    "    WITH REPLICATION =\n",
    "    {'class':'SimpleStrategy','replication_factor':1}\"\"\")\n",
    "except Exception as e:\n",
    "    print('an error occured:')\n",
    "    print(e)"
   ]
  },
  {
   "cell_type": "markdown",
   "metadata": {},
   "source": [
    "#### Set Keyspace"
   ]
  },
  {
   "cell_type": "code",
   "execution_count": 7,
   "metadata": {},
   "outputs": [],
   "source": [
    "# we instruct the connector that we work on the keyspace that we have just created\n",
    "try:\n",
    "    session.set_keyspace('udacity')\n",
    "except Exception as e:\n",
    "    print('an error occured:')\n",
    "    print(e)"
   ]
  },
  {
   "cell_type": "markdown",
   "metadata": {},
   "source": [
    "### Now we need to create tables to run the following queries. With Apache Cassandra we model the database tables on the queries we want to run."
   ]
  },
  {
   "cell_type": "markdown",
   "metadata": {},
   "source": [
    "# Queries and tables creation"
   ]
  },
  {
   "cell_type": "markdown",
   "metadata": {},
   "source": [
    "### Create queries to ask the following three questions of the data\n",
    "\n",
    "#### 1. Give me the artist, song title and song's length in the music app history that was heard during  sessionId = 338, and itemInSession  = 4\n",
    "\n",
    "\n",
    "#### 2. Give me only the following: name of artist, song (sorted by itemInSession) and user (first and last name) for userid = 10, sessionid = 182\n",
    "    \n",
    "\n",
    "#### 3. Give me every user name (first and last) in my music app history who listened to the song 'All Hands Against His Own'\n",
    "\n",
    "\n"
   ]
  },
  {
   "cell_type": "code",
   "execution_count": 8,
   "metadata": {},
   "outputs": [],
   "source": [
    "# We will stick to the NoSQL paradigm and create one table per query\n",
    "# artist_song_session for query1\n",
    "# song_playlist_session for query2\n",
    "# users_song for query3"
   ]
  },
  {
   "cell_type": "markdown",
   "metadata": {},
   "source": [
    "# Some panda preparation for further analysis on unicity"
   ]
  },
  {
   "cell_type": "code",
   "execution_count": 9,
   "metadata": {},
   "outputs": [],
   "source": [
    "df=pd.read_csv('event_datafile_new.csv')"
   ]
  },
  {
   "cell_type": "code",
   "execution_count": 10,
   "metadata": {},
   "outputs": [
    {
     "data": {
      "text/plain": [
       "Index(['artist', 'firstName', 'gender', 'itemInSession', 'lastName', 'length',\n",
       "       'level', 'location', 'sessionId', 'song', 'userId'],\n",
       "      dtype='object')"
      ]
     },
     "execution_count": 10,
     "metadata": {},
     "output_type": "execute_result"
    }
   ],
   "source": [
    "df.columns"
   ]
  },
  {
   "cell_type": "markdown",
   "metadata": {},
   "source": [
    "---"
   ]
  },
  {
   "cell_type": "markdown",
   "metadata": {},
   "source": [
    "# table1 - artist_song_session for query1"
   ]
  },
  {
   "cell_type": "code",
   "execution_count": 11,
   "metadata": {},
   "outputs": [
    {
     "data": {
      "text/plain": [
       "0"
      ]
     },
     "execution_count": 11,
     "metadata": {},
     "output_type": "execute_result"
    }
   ],
   "source": [
    "# first, we need to make sure that the columns we consider for the primary key do not come with duplicate values\n",
    "dfcount1=df.groupby(['sessionId','itemInSession']).size().reset_index().rename(columns={0:'count'})\n",
    "len(dfcount1[dfcount1['count']>1]) # should equal to 0"
   ]
  },
  {
   "cell_type": "markdown",
   "metadata": {},
   "source": [
    "### query1 formulation"
   ]
  },
  {
   "cell_type": "markdown",
   "metadata": {},
   "source": [
    "This query will need to be filtered on session_id and item_in_session.\n",
    "\n",
    "> These 2 fields will need to be included in the PRIMARY KEY as partition key\n",
    "\n",
    "The results don't need to be ordered in a specific way\n",
    "\n",
    "> There are thus no other fields to be included in the PRIMARY KEY as clustering columns"
   ]
  },
  {
   "cell_type": "code",
   "execution_count": 1,
   "metadata": {},
   "outputs": [],
   "source": [
    "query1=\"SELECT artist,song_title,song_length FROM artist_song_session WHERE session_id=338 and item_in_session=4\""
   ]
  },
  {
   "cell_type": "markdown",
   "metadata": {},
   "source": [
    "### table1 - artist_song_session CREATE"
   ]
  },
  {
   "cell_type": "code",
   "execution_count": 13,
   "metadata": {},
   "outputs": [],
   "source": [
    "## Query 1:  Give me the artist, song title and song's length in the music app history that was heard during \\\n",
    "## sessionId = 338, and itemInSession = 4\n",
    "\n",
    "#table1 needs to be filtered on session_id and item_in_session\n",
    "#table1 does not need to be ordered in a specific way\n",
    "try:\n",
    "    query=\"\"\"CREATE TABLE IF NOT EXISTS artist_song_session\"\"\"\n",
    "    session.execute(query+\"\"\"(session_id int,\\\n",
    "                                item_in_session int,\\\n",
    "                                artist varchar,\\\n",
    "                                song_title varchar,\\\n",
    "                                song_length float,\\\n",
    "                                PRIMARY KEY((session_id),item_in_session))\"\"\")\n",
    "except Exception as e:\n",
    "    print('an error occured:')\n",
    "    print(e)"
   ]
  },
  {
   "cell_type": "markdown",
   "metadata": {},
   "source": [
    "### table1 - artist_song_session data INSERT"
   ]
  },
  {
   "cell_type": "code",
   "execution_count": 14,
   "metadata": {},
   "outputs": [],
   "source": [
    "file = 'event_datafile_new.csv'\n",
    "\n",
    "with open(file, encoding = 'utf8') as f:\n",
    "    csvreader = csv.reader(f)\n",
    "    next(csvreader) # skip header\n",
    "    for line in csvreader:\n",
    "        insert_query1 = \"INSERT INTO artist_song_session(session_id,item_in_session,artist,song_title,song_length)\"\n",
    "        insert_query1 = insert_query1 + \"VALUES (%s,%s,%s,%s,%s)\"\n",
    "        try:\n",
    "            session.execute(insert_query1,(int(line[8]),int(line[3]),line[0],line[9],float(line[5])))\n",
    "        except Exception as e:\n",
    "            print('an error occured:')\n",
    "            print(e)"
   ]
  },
  {
   "cell_type": "markdown",
   "metadata": {},
   "source": [
    "### table1 - artist_song_session data SELECT"
   ]
  },
  {
   "cell_type": "code",
   "execution_count": 15,
   "metadata": {
    "scrolled": true
   },
   "outputs": [
    {
     "name": "stdout",
     "output_type": "stream",
     "text": [
      "Faithless, Music Matters (Mark Knight Dub), 495.30731201171875\n"
     ]
    }
   ],
   "source": [
    "## SELECT statement to verify the data was entered into the table\n",
    "try:\n",
    "    rows = session.execute(query1)\n",
    "except Exception as e:\n",
    "    print('an error occured:')\n",
    "    print(e)\n",
    "    \n",
    "for row in rows:\n",
    "    print(str(row.artist)+\", \"+str(row.song_title)+\", \"+str(row.song_length))"
   ]
  },
  {
   "cell_type": "markdown",
   "metadata": {},
   "source": [
    "***"
   ]
  },
  {
   "cell_type": "markdown",
   "metadata": {},
   "source": [
    "# table2 - song_playlist_session for query2"
   ]
  },
  {
   "cell_type": "code",
   "execution_count": 17,
   "metadata": {},
   "outputs": [
    {
     "data": {
      "text/plain": [
       "0"
      ]
     },
     "execution_count": 17,
     "metadata": {},
     "output_type": "execute_result"
    }
   ],
   "source": [
    "# first, we need to make sure that the columns we consider for the primary key do not come with duplicate values\n",
    "dfcount2=df.groupby(['userId','sessionId','itemInSession']).size().reset_index().rename(columns={0:'count'})\n",
    "len(dfcount1[dfcount1['count']>1]) # should equal to 0"
   ]
  },
  {
   "cell_type": "markdown",
   "metadata": {},
   "source": [
    "### query2 formulation"
   ]
  },
  {
   "cell_type": "markdown",
   "metadata": {},
   "source": [
    "This query will need to be filtered on user_id and session_id.\n",
    "\n",
    "> These 2 fields will need to be included in the PRIMARY KEY as a partition key\n",
    "\n",
    "The results need to be ordered by item_in_session\n",
    "\n",
    "> This 3rd field will thus have to be included in the PRIMARY KEY as a clustering column"
   ]
  },
  {
   "cell_type": "code",
   "execution_count": 18,
   "metadata": {},
   "outputs": [],
   "source": [
    "query2=\"SELECT artist,song_title, usr_first_name, usr_last_name FROM song_playlist_session WHERE user_id=10 and session_id=182\"\n"
   ]
  },
  {
   "cell_type": "markdown",
   "metadata": {},
   "source": [
    "### table2 - song_playlist_session CREATE"
   ]
  },
  {
   "cell_type": "code",
   "execution_count": 19,
   "metadata": {},
   "outputs": [],
   "source": [
    "## Query 2: Give me only the following: name of artist, song (sorted by itemInSession) and user (first and last name)\\\n",
    "## for userid = 10, sessionid = 182\n",
    "try:\n",
    "    create_query2=\"\"\"CREATE TABLE IF NOT EXISTS song_playlist_session\"\"\"\n",
    "    session.execute(create_query2+\"\"\"(user_id int,\\\n",
    "                                        session_id int,\\\n",
    "                                        item_in_session int,\\\n",
    "                                        artist varchar,\\\n",
    "                                        song_title varchar,\\\n",
    "                                        usr_first_name varchar,\\\n",
    "                                        usr_last_name varchar,\\\n",
    "                                        PRIMARY KEY((user_id,session_id),item_in_session))\"\"\")\n",
    "except Exception as e:\n",
    "    print(e)"
   ]
  },
  {
   "cell_type": "markdown",
   "metadata": {},
   "source": [
    "### table2 - song_playlist_session data INSERT"
   ]
  },
  {
   "cell_type": "code",
   "execution_count": 20,
   "metadata": {},
   "outputs": [],
   "source": [
    "file = 'event_datafile_new.csv'\n",
    "\n",
    "with open(file, encoding = 'utf8') as f:\n",
    "    csvreader = csv.reader(f)\n",
    "    next(csvreader) # skip header\n",
    "    for line in csvreader:\n",
    "        insert_query2 = \"INSERT INTO song_playlist_session(user_id,session_id, item_in_session,artist,song_title,usr_first_name,usr_last_name)\"\n",
    "        insert_query2 = insert_query2 + \"VALUES (%s,%s,%s,%s,%s,%s,%s)\"\n",
    "        try:\n",
    "            session.execute(insert_query2,(int(line[10]),int(line[8]),int(line[3]),line[0],line[9],line[1],line[4]))\n",
    "        except Exception as e:\n",
    "            print('an error occured:')\n",
    "            print(e)"
   ]
  },
  {
   "cell_type": "markdown",
   "metadata": {},
   "source": [
    "### table2 - song_playlist_session data SELECT"
   ]
  },
  {
   "cell_type": "code",
   "execution_count": 21,
   "metadata": {},
   "outputs": [
    {
     "name": "stdout",
     "output_type": "stream",
     "text": [
      "Down To The Bone, Keep On Keepin' On, Sylvie, Cruz\n",
      "Three Drives, Greece 2000, Sylvie, Cruz\n",
      "Sebastien Tellier, Kilometer, Sylvie, Cruz\n",
      "Lonnie Gordon, Catch You Baby (Steve Pitron & Max Sanna Radio Edit), Sylvie, Cruz\n"
     ]
    }
   ],
   "source": [
    "try:\n",
    "    rows = session.execute(query2)\n",
    "except Exception as e:\n",
    "    print('an error occured:')\n",
    "    print(e)\n",
    "    \n",
    "for row in rows:\n",
    "    #print(row)\n",
    "    print(str(row.artist)+\", \"+str(row.song_title)+\", \"+str(row.usr_first_name)+\", \"+str(row.usr_last_name))"
   ]
  },
  {
   "cell_type": "markdown",
   "metadata": {},
   "source": [
    "---"
   ]
  },
  {
   "cell_type": "markdown",
   "metadata": {},
   "source": [
    "# table3 - users_song for query3"
   ]
  },
  {
   "cell_type": "code",
   "execution_count": 24,
   "metadata": {},
   "outputs": [],
   "source": [
    "# Here, we don't need to make sure we won't miss on duplicates as we are not interested in the count of listenings of each song by each user\n"
   ]
  },
  {
   "cell_type": "markdown",
   "metadata": {},
   "source": [
    "### query3 formulation"
   ]
  },
  {
   "cell_type": "markdown",
   "metadata": {},
   "source": [
    "This query will need to be filtered on song_title.\n",
    "\n",
    "> This field will need to be included in the PRIMARY KEY as partition key\n",
    "\n",
    "The results don't need to be ordered in a specific way\n",
    "\n",
    "> There are thus no other fields to be included in the PRIMARY KEY as clustering columns for ordering reasons\n",
    "\n",
    "We need to allow for multiple records referring to the same song, but listened by multiple users.\n",
    "\n",
    "> The field user_id will have to be included in the PRIMARY KEY as clustering column"
   ]
  },
  {
   "cell_type": "code",
   "execution_count": 30,
   "metadata": {},
   "outputs": [],
   "source": [
    "query3=\"SELECT usr_first_name, usr_last_name FROM users_song WHERE song_title='All Hands Against His Own'\"\n"
   ]
  },
  {
   "cell_type": "markdown",
   "metadata": {},
   "source": [
    "### table3 - users_song CREATE"
   ]
  },
  {
   "cell_type": "code",
   "execution_count": 31,
   "metadata": {},
   "outputs": [],
   "source": [
    "## Query 3: Give me every user name (first and last) in my music app history who listened to the song 'All Hands Against His Own'\n",
    "try:\n",
    "    create_query3=\"\"\"CREATE TABLE IF NOT EXISTS users_song\"\"\"\n",
    "    session.execute(create_query3+\"\"\"(song_title varchar,\\\n",
    "                                        user_id int,\\\n",
    "                                        usr_first_name varchar,\\\n",
    "                                        usr_last_name varchar,\\\n",
    "                                        PRIMARY KEY (song_title,user_id))\"\"\")\n",
    "except Exception as e:\n",
    "    print('an error occured')\n",
    "    print(e)\n",
    "\n",
    "                    "
   ]
  },
  {
   "cell_type": "markdown",
   "metadata": {},
   "source": [
    "### table3 - users_song data INSERT"
   ]
  },
  {
   "cell_type": "code",
   "execution_count": 33,
   "metadata": {},
   "outputs": [],
   "source": [
    "file = 'event_datafile_new.csv'\n",
    "\n",
    "with open(file, encoding = 'utf8') as f:\n",
    "    csvreader = csv.reader(f)\n",
    "    next(csvreader) # skip header\n",
    "    for line in csvreader:\n",
    "        insert_query2 = \"INSERT INTO users_song(song_title,user_id,usr_first_name,usr_last_name)\"\n",
    "        insert_query2 = insert_query2 + \"VALUES (%s,%s,%s,%s)\"\n",
    "        try:\n",
    "            session.execute(insert_query2,(line[9],int(line[10]),line[1],line[4]))\n",
    "        except Exception as e:\n",
    "            print('an error occured:')\n",
    "            print(e)"
   ]
  },
  {
   "cell_type": "markdown",
   "metadata": {},
   "source": [
    "### table3 - users_song data SELECT"
   ]
  },
  {
   "cell_type": "code",
   "execution_count": 34,
   "metadata": {},
   "outputs": [
    {
     "name": "stdout",
     "output_type": "stream",
     "text": [
      "Jacqueline Lynch\n",
      "Tegan Levine\n",
      "Sara Johnson\n"
     ]
    }
   ],
   "source": [
    "try:\n",
    "    rows=session.execute(query3)\n",
    "except Exception as e:\n",
    "    print('an error occured')\n",
    "    print(e)\n",
    "    \n",
    "for row in rows:\n",
    "    print(row.usr_first_name+\" \"+row.usr_last_name)\n",
    "    "
   ]
  },
  {
   "cell_type": "markdown",
   "metadata": {},
   "source": [
    "---"
   ]
  },
  {
   "cell_type": "markdown",
   "metadata": {},
   "source": [
    "### Drop the tables before closing out the sessions"
   ]
  },
  {
   "cell_type": "code",
   "execution_count": 29,
   "metadata": {},
   "outputs": [],
   "source": [
    "try:\n",
    "    session.execute('DROP TABLE artist_song_session')\n",
    "except Exception as e:\n",
    "    print(e)\n",
    "    \n",
    "try:\n",
    "    session.execute('DROP TABLE song_playlist_session')\n",
    "except Exception as e:\n",
    "    print(e)\n",
    "    \n",
    "try:\n",
    "    session.execute('DROP TABLE users_song')\n",
    "except Exception as e:\n",
    "    print(e)"
   ]
  },
  {
   "cell_type": "markdown",
   "metadata": {},
   "source": [
    "### Close the session and cluster connection¶"
   ]
  },
  {
   "cell_type": "code",
   "execution_count": 95,
   "metadata": {},
   "outputs": [],
   "source": [
    "session.shutdown()\n",
    "cluster.shutdown()"
   ]
  }
 ],
 "metadata": {
  "kernelspec": {
   "display_name": "Python 3",
   "language": "python",
   "name": "python3"
  },
  "language_info": {
   "codemirror_mode": {
    "name": "ipython",
    "version": 3
   },
   "file_extension": ".py",
   "mimetype": "text/x-python",
   "name": "python",
   "nbconvert_exporter": "python",
   "pygments_lexer": "ipython3",
   "version": "3.6.3"
  }
 },
 "nbformat": 4,
 "nbformat_minor": 4
}
